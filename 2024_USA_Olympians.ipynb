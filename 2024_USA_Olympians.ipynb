{
 "cells": [
  {
   "cell_type": "markdown",
   "metadata": {},
   "source": [
    "\n",
    "The objective of this script was to extract a comprehensive list of USA Olympians fromn the Team USA website. The process involved several challenges:\n",
    "\n",
    "1. Pagination and Ads: Initially, the table displayed only 10 Olympians along with an ad and a \"View More Athletes\" button. Clicking this button revealed 10 additional athletes along with another ad and button. With a over 590 Olympians to retrieve, the script needed to repeatedly click the \"View More Athletes\" button to load all entries.\n",
    "\n",
    "2. Pop up Interference: a pop-up ad obscured the \"View More Athletes\" button, requiring the script to handle this distraction.\n",
    "\n",
    "3. Table Structure: Each row in the Olympian table contained a nested header with additional information. The script had to extract the Olympian names from these nested headers and then combine this information with the rest of the data for each olympian.\n",
    "\n",
    "Overall, the script efficiently navigates through dynamic content and handles complex table structures to compile a complete list of athletes."
   ]
  },
  {
   "cell_type": "code",
   "execution_count": 1,
   "metadata": {},
   "outputs": [],
   "source": [
    "from time import sleep\n",
    "from selenium import webdriver\n",
    "from selenium.webdriver.common.action_chains import ActionChains\n",
    "from selenium.webdriver.chrome.service import Service as ChromeService\n",
    "from selenium.webdriver.chrome.options import Options\n",
    "from selenium.webdriver.common.by import By\n",
    "from selenium.common.exceptions import NoSuchElementException, ElementNotInteractableException\n",
    "from bs4 import BeautifulSoup\n",
    "import pandas as pd"
   ]
  },
  {
   "cell_type": "code",
   "execution_count": 2,
   "metadata": {},
   "outputs": [],
   "source": [
    "# Configure Chrome Options\n",
    "chrome_options = Options()\n",
    "chrome_options.add_argument(\"--headless=new\") # Headless allows users to run automated script without the borwser window visible\n",
    "\n",
    "# Initialize WebDriver\n",
    "driver = webdriver.Chrome(options=chrome_options)\n",
    "url = r\"https://www.teamusa.com/paris-2024/olympics#Team_USA_Qualified_Athletes_csdd\"\n",
    "driver.get(url)"
   ]
  },
  {
   "cell_type": "markdown",
   "metadata": {},
   "source": [
    "Ad\n",
    "Below code should be ammended to wait until the button appears and put into a try block"
   ]
  },
  {
   "cell_type": "code",
   "execution_count": 3,
   "metadata": {},
   "outputs": [],
   "source": [
    "close_ad_button = driver.find_element(By.XPATH, \"/html/body/div[3]/div[2]/div/div[2]/button\")\n",
    "ActionChains(driver).scroll_to_element(close_ad_button).click(close_ad_button).perform()\n",
    "driver.implicitly_wait(5)"
   ]
  },
  {
   "cell_type": "code",
   "execution_count": 4,
   "metadata": {},
   "outputs": [
    {
     "name": "stdout",
     "output_type": "stream",
     "text": [
      "Button is no longer available\n"
     ]
    }
   ],
   "source": [
    "# Continuously click 'View More Athletes' button \n",
    "while True:\n",
    "    try:\n",
    "        button = driver.find_element(By.XPATH, \"/html/body/div[1]/main/div[8]/div/div[4]/button\")\n",
    "\n",
    "        ActionChains(driver).scroll_to_element(button).click(button).perform()\n",
    "\n",
    "        driver.implicitly_wait(5)\n",
    "    except (NoSuchElementException, ElementNotInteractableException):\n",
    "        print(\"Button is no longer available\")\n",
    "        break"
   ]
  },
  {
   "cell_type": "code",
   "execution_count": 6,
   "metadata": {},
   "outputs": [],
   "source": [
    "# Parse page with BS\n",
    "src = driver.page_source\n",
    "driver.quit()\n",
    "parser = BeautifulSoup(src, \"lxml\")\n",
    "\n",
    "# Find table\n",
    "table = parser.find(\"table\", attrs = {\"class\": \"chakra-table css-1o7rs0n\"})\n",
    "if not table:\n",
    "    raise Exception(\"Table not found\")\n",
    "\n",
    "headers = [th.text.strip() for th in table.findAll('th')][:4] # Pull text values of headers\n",
    "\n",
    "rows = table.findAll('tr')[1:]\n"
   ]
  },
  {
   "cell_type": "code",
   "execution_count": 7,
   "metadata": {},
   "outputs": [],
   "source": [
    "names = [p.getText().strip() for row in rows for p in row.findAll(\"p\", attrs={\"class\": \"chakra-text css-mpfnrl\"})]\n",
    "olympian_info = [\n",
    "        [td.getText().strip() for td in row.findAll('td') if \"css-egy9nu\" not in td.get('class', [])]\n",
    "        for row in rows\n",
    "    ]\n",
    "olympian_info  = [info for info in olympian_info if info]\n",
    "combined_list = [[names[i]] + olympian_info[i] for i in range(len(names))]\n",
    "o_data = pd.DataFrame(combined_list, columns=headers)"
   ]
  },
  {
   "cell_type": "code",
   "execution_count": 8,
   "metadata": {},
   "outputs": [
    {
     "data": {
      "text/html": [
       "<div>\n",
       "<style scoped>\n",
       "    .dataframe tbody tr th:only-of-type {\n",
       "        vertical-align: middle;\n",
       "    }\n",
       "\n",
       "    .dataframe tbody tr th {\n",
       "        vertical-align: top;\n",
       "    }\n",
       "\n",
       "    .dataframe thead th {\n",
       "        text-align: right;\n",
       "    }\n",
       "</style>\n",
       "<table border=\"1\" class=\"dataframe\">\n",
       "  <thead>\n",
       "    <tr style=\"text-align: right;\">\n",
       "      <th></th>\n",
       "      <th>Name</th>\n",
       "      <th>Sport</th>\n",
       "      <th>Education</th>\n",
       "      <th>Hometown</th>\n",
       "    </tr>\n",
       "  </thead>\n",
       "  <tbody>\n",
       "    <tr>\n",
       "      <th>0</th>\n",
       "      <td>Paxten Aaronson</td>\n",
       "      <td>Soccer</td>\n",
       "      <td></td>\n",
       "      <td>Medford, NJ</td>\n",
       "    </tr>\n",
       "    <tr>\n",
       "      <th>1</th>\n",
       "      <td>Katelyn Abeln</td>\n",
       "      <td>Shooting</td>\n",
       "      <td>Ohio State University</td>\n",
       "      <td>Douglasville, GA</td>\n",
       "    </tr>\n",
       "    <tr>\n",
       "      <th>2</th>\n",
       "      <td>Bam Adebayo</td>\n",
       "      <td>Basketball</td>\n",
       "      <td>University of Kentucky</td>\n",
       "      <td>Newark, NJ</td>\n",
       "    </tr>\n",
       "    <tr>\n",
       "      <th>3</th>\n",
       "      <td>Nia Akins</td>\n",
       "      <td>Track and Field</td>\n",
       "      <td>University of Pennslyvania</td>\n",
       "      <td>San Diego, CA</td>\n",
       "    </tr>\n",
       "    <tr>\n",
       "      <th>4</th>\n",
       "      <td>Korbin Albert</td>\n",
       "      <td>Soccer</td>\n",
       "      <td>University of Notre Dame</td>\n",
       "      <td>Grayslake, IL</td>\n",
       "    </tr>\n",
       "    <tr>\n",
       "      <th>...</th>\n",
       "      <td>...</td>\n",
       "      <td>...</td>\n",
       "      <td>...</td>\n",
       "      <td>...</td>\n",
       "    </tr>\n",
       "    <tr>\n",
       "      <th>592</th>\n",
       "      <td>Rose Zhang</td>\n",
       "      <td>Golf</td>\n",
       "      <td>Pacific Academy (Irvine, Calif.) ’21, Stanford...</td>\n",
       "      <td>Irvine, CA</td>\n",
       "    </tr>\n",
       "    <tr>\n",
       "      <th>593</th>\n",
       "      <td>Beiwen Zhang</td>\n",
       "      <td>Badminton</td>\n",
       "      <td></td>\n",
       "      <td>Las Vegas, NV</td>\n",
       "    </tr>\n",
       "    <tr>\n",
       "      <th>594</th>\n",
       "      <td>Zach Ziemek</td>\n",
       "      <td>Track and Field</td>\n",
       "      <td>University of Wisconsin, Madison '16, Sociology</td>\n",
       "      <td>Itasca, IL</td>\n",
       "    </tr>\n",
       "    <tr>\n",
       "      <th>595</th>\n",
       "      <td>Maddie Zimmer</td>\n",
       "      <td>Field Hockey</td>\n",
       "      <td>Hershey Northwestern '24</td>\n",
       "      <td>Hershey, PA</td>\n",
       "    </tr>\n",
       "    <tr>\n",
       "      <th>596</th>\n",
       "      <td>Walker Zimmerman</td>\n",
       "      <td>Soccer</td>\n",
       "      <td>Furman University</td>\n",
       "      <td>Lawrenceville, GA</td>\n",
       "    </tr>\n",
       "  </tbody>\n",
       "</table>\n",
       "<p>597 rows × 4 columns</p>\n",
       "</div>"
      ],
      "text/plain": [
       "                 Name            Sport  \\\n",
       "0     Paxten Aaronson           Soccer   \n",
       "1       Katelyn Abeln         Shooting   \n",
       "2         Bam Adebayo       Basketball   \n",
       "3           Nia Akins  Track and Field   \n",
       "4       Korbin Albert           Soccer   \n",
       "..                ...              ...   \n",
       "592        Rose Zhang             Golf   \n",
       "593      Beiwen Zhang        Badminton   \n",
       "594       Zach Ziemek  Track and Field   \n",
       "595     Maddie Zimmer     Field Hockey   \n",
       "596  Walker Zimmerman           Soccer   \n",
       "\n",
       "                                             Education           Hometown  \n",
       "0                                                             Medford, NJ  \n",
       "1                                Ohio State University   Douglasville, GA  \n",
       "2                               University of Kentucky         Newark, NJ  \n",
       "3                           University of Pennslyvania      San Diego, CA  \n",
       "4                             University of Notre Dame      Grayslake, IL  \n",
       "..                                                 ...                ...  \n",
       "592  Pacific Academy (Irvine, Calif.) ’21, Stanford...         Irvine, CA  \n",
       "593                                                         Las Vegas, NV  \n",
       "594    University of Wisconsin, Madison '16, Sociology         Itasca, IL  \n",
       "595                           Hershey Northwestern '24        Hershey, PA  \n",
       "596                                  Furman University  Lawrenceville, GA  \n",
       "\n",
       "[597 rows x 4 columns]"
      ]
     },
     "execution_count": 8,
     "metadata": {},
     "output_type": "execute_result"
    }
   ],
   "source": [
    "o_data"
   ]
  },
  {
   "cell_type": "code",
   "execution_count": 12,
   "metadata": {},
   "outputs": [],
   "source": [
    "pd.DataFrame.to_excel(o_data, \"T:\\\\AArete Client Work\\\\CODE\\\\TeamMember\\\\sclark\\\\Python\\\\Webscrape\\\\olympians.xlsx\")"
   ]
  }
 ],
 "metadata": {
  "kernelspec": {
   "display_name": "Python 3",
   "language": "python",
   "name": "python3"
  },
  "language_info": {
   "codemirror_mode": {
    "name": "ipython",
    "version": 3
   },
   "file_extension": ".py",
   "mimetype": "text/x-python",
   "name": "python",
   "nbconvert_exporter": "python",
   "pygments_lexer": "ipython3",
   "version": "3.11.2"
  }
 },
 "nbformat": 4,
 "nbformat_minor": 2
}
